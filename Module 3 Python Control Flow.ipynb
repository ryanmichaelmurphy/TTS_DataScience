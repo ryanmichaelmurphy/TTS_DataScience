{
 "cells": [
  {
   "cell_type": "markdown",
   "metadata": {},
   "source": [
    "Exercise 1\n",
    "Guess a number between 1 to 9 given by the user"
   ]
  },
  {
   "cell_type": "code",
   "execution_count": 32,
   "metadata": {},
   "outputs": [
    {
     "name": "stdout",
     "output_type": "stream",
     "text": [
      "Give me a number between 1 -9: 4\n",
      "Oops. I guessed 6\n"
     ]
    }
   ],
   "source": [
    "import random\n",
    "\n",
    "user = int(input(\"Give me a number between 1 -9: \"))\n",
    "comp = random.randint(1, 10)\n",
    "if user == comp:\n",
    "    print(\"I also guessed \" + str(comp))\n",
    "e\n",
    "    print(\"Oops. I guessed \" + str(comp))"
   ]
  },
  {
   "cell_type": "markdown",
   "metadata": {},
   "source": [
    "Exercise 2\n",
    "Check the validity of password input by the user.\n",
    "\n",
    "Validation:\n",
    "\n",
    "At least 1 letter between [a-z] and 1 letter between [A-Z]\n",
    "At least 1 number between [0-9]\n",
    "At least 1 character from [$#@]\n",
    "Minimum length 6 characters\n",
    "Maximum length 16 characters"
   ]
  },
  {
   "cell_type": "code",
   "execution_count": 40,
   "metadata": {},
   "outputs": [
    {
     "name": "stdout",
     "output_type": "stream",
     "text": [
      "Enter password: Howdy1@\n",
      "You have a valid password!\n"
     ]
    },
    {
     "ename": "NameError",
     "evalue": "name 'a' is not defined",
     "output_type": "error",
     "traceback": [
      "\u001b[1;31m---------------------------------------------------------------------------\u001b[0m",
      "\u001b[1;31mNameError\u001b[0m                                 Traceback (most recent call last)",
      "\u001b[1;32m<ipython-input-40-8fed8007df43>\u001b[0m in \u001b[0;36m<module>\u001b[1;34m\u001b[0m\n\u001b[0;32m     21\u001b[0m     \u001b[0mprint\u001b[0m\u001b[1;33m(\u001b[0m\u001b[1;34m\"You have a valid password!\"\u001b[0m\u001b[1;33m)\u001b[0m\u001b[1;33m\u001b[0m\u001b[1;33m\u001b[0m\u001b[0m\n\u001b[0;32m     22\u001b[0m \u001b[1;33m\u001b[0m\u001b[0m\n\u001b[1;32m---> 23\u001b[1;33m \u001b[1;32mfor\u001b[0m \u001b[0mitem\u001b[0m \u001b[1;32min\u001b[0m \u001b[1;33m[\u001b[0m\u001b[0ma\u001b[0m\u001b[1;33m-\u001b[0m\u001b[0mz\u001b[0m\u001b[1;33m]\u001b[0m\u001b[1;33m:\u001b[0m\u001b[1;33m\u001b[0m\u001b[1;33m\u001b[0m\u001b[0m\n\u001b[0m\u001b[0;32m     24\u001b[0m     \u001b[1;32mif\u001b[0m \u001b[0mitem\u001b[0m \u001b[1;32min\u001b[0m \u001b[0mpassword\u001b[0m\u001b[1;33m:\u001b[0m\u001b[1;33m\u001b[0m\u001b[1;33m\u001b[0m\u001b[0m\n\u001b[0;32m     25\u001b[0m         \u001b[0mprint\u001b[0m\u001b[1;33m(\u001b[0m\u001b[1;34m\"This works!\"\u001b[0m\u001b[1;33m)\u001b[0m\u001b[1;33m\u001b[0m\u001b[1;33m\u001b[0m\u001b[0m\n",
      "\u001b[1;31mNameError\u001b[0m: name 'a' is not defined"
     ]
    }
   ],
   "source": [
    "import re\n",
    "\n",
    "password = input(\"Enter password: \")\n",
    "if len(password) < 6:\n",
    "    print(\"INVALID\")\n",
    "elif len(password) > 16:\n",
    "    print(\"INVALID\")\n",
    "elif password.find(\"$\") < 0 and password.find(\"#\") < 0 and password.find(\"@\") < 0: \n",
    "    print(\"INVALID\")\n",
    "elif password.islower(): \n",
    "    print(\"INVALID\")\n",
    "elif password.isupper(): \n",
    "    print(\"INVALID\")\n",
    "elif not re.search(\"[a-z]\",password):\n",
    "    print(\"INVALID\")\n",
    "elif not re.search(\"[0-9]\",password):\n",
    "    print(\"INVALID\")\n",
    "elif not re.search(\"[A-Z]\",password):\n",
    "    print(\"INVALID\")\n",
    "else:\n",
    "    print(\"You have a valid password!\")\n",
    "\n",
    "for item in \"[a-z]\":\n",
    "    if item in password:\n",
    "        print(\"This works!\")\n"
   ]
  },
  {
   "cell_type": "markdown",
   "metadata": {},
   "source": [
    "Exercise 3\n",
    "Get input of the age of 3 people by user and determine oldest and youngest among them"
   ]
  },
  {
   "cell_type": "code",
   "execution_count": 17,
   "metadata": {},
   "outputs": [
    {
     "name": "stdout",
     "output_type": "stream",
     "text": [
      "enter age1: 1341\n",
      "enter age2: 242\n",
      "enter age3: 12521\n",
      "The youngest age is 242\n",
      "The oldest age is 12521\n"
     ]
    }
   ],
   "source": [
    "ages = []\n",
    "\n",
    "age1 = int(input(\"enter age1: \"))\n",
    "age2 = int(input(\"enter age2: \"))\n",
    "age3 = int(input(\"enter age3: \"))\n",
    "\n",
    "ages.append(age1)\n",
    "ages.append(age2)\n",
    "ages.append(age3)\n",
    "\n",
    "ages.sort()\n",
    "\n",
    "print(\"The youngest age is \" + str(ages[0]))\n",
    "print(\"The oldest age is \" + str(ages[len(ages)-1]))"
   ]
  },
  {
   "cell_type": "markdown",
   "metadata": {},
   "source": [
    "Exercise 4\n",
    "A student will not be allowed to sit in exam if his/her attendance is less than 75%.\n",
    "\n",
    "Take following input from user\n",
    "\n",
    "Number of classes held\n",
    "Number of classes attended.\n",
    "And print\n",
    "percentage of class attended\n",
    "Is student is allowed to sit in exam or not?\n",
    "\n"
   ]
  },
  {
   "cell_type": "code",
   "execution_count": 19,
   "metadata": {},
   "outputs": [
    {
     "name": "stdout",
     "output_type": "stream",
     "text": [
      "Number of classes held: 123\n",
      "Number of classes attended: 21\n",
      "You may not take the exam, bum.\n"
     ]
    }
   ],
   "source": [
    "held = int(input(\"Number of classes held: \"))\n",
    "attended = int(input(\"Number of classes attended: \"))\n",
    "percent = attended/held * 100\n",
    "if percent >= 75:\n",
    "    print(\"You may sit for the exam!\")\n",
    "else:\n",
    "    print(\"You may not take the exam, bum.\")"
   ]
  },
  {
   "cell_type": "markdown",
   "metadata": {},
   "source": [
    "Exercise 5\n",
    "\n",
    "Get an integer N from the user and perform the following actions:\n",
    "\n",
    "if N is odd, print \"weird\"\n",
    "if N is even and in the inclusive range of 2 to 5, print \"Not Weird\"\n",
    "if N is even and in the inclusive range of 6 to 20, print \"Weird\"\n",
    "if N is even and greater than 20, print \"Not Weird\""
   ]
  },
  {
   "cell_type": "code",
   "execution_count": 24,
   "metadata": {},
   "outputs": [
    {
     "name": "stdout",
     "output_type": "stream",
     "text": [
      "Integer please! 18\n",
      "Weird\n"
     ]
    }
   ],
   "source": [
    "N = int(input(\"Integer please! \"))\n",
    "if N % 2 != 0:\n",
    "    print(\"weird\")\n",
    "elif N % 2 == 0 and N > 1 and N < 6:\n",
    "    print(\"Not Weird\")\n",
    "elif N % 2 ==0 and N > 5 and N < 21:\n",
    "    print(\"Weird\")\n",
    "else:\n",
    "    print(\"Not Weird\")"
   ]
  },
  {
   "cell_type": "code",
   "execution_count": null,
   "metadata": {},
   "outputs": [],
   "source": []
  }
 ],
 "metadata": {
  "kernelspec": {
   "display_name": "Python 3",
   "language": "python",
   "name": "python3"
  },
  "language_info": {
   "codemirror_mode": {
    "name": "ipython",
    "version": 3
   },
   "file_extension": ".py",
   "mimetype": "text/x-python",
   "name": "python",
   "nbconvert_exporter": "python",
   "pygments_lexer": "ipython3",
   "version": "3.8.5"
  }
 },
 "nbformat": 4,
 "nbformat_minor": 4
}
