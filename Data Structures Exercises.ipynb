{
 "cells": [
  {
   "cell_type": "markdown",
   "metadata": {},
   "source": [
    "Exercise 1\n",
    "Take the following two lists. Create a third list by picking a odd-index elements from the first list and even-index elements from the second."
   ]
  },
  {
   "cell_type": "code",
   "execution_count": 12,
   "metadata": {},
   "outputs": [
    {
     "name": "stdout",
     "output_type": "stream",
     "text": [
      "[6, 12, 18, 12, 20, 28]\n",
      "[6, 12, 18, 4, 12, 20, 28]\n"
     ]
    }
   ],
   "source": [
    "listOne = [3, 6, 9, 12, 15, 18, 21]\n",
    "listTwo = [4, 8, 12, 16, 20, 24, 28]\n",
    "\n",
    "listThree = [listOne[1],listOne[3],listOne[5],listTwo[2],listTwo[4],listTwo[6]]\n",
    "\n",
    "print(listThree)\n",
    "\n",
    "\n",
    "listThree = listOne[1::2]\n",
    "\n",
    "#Is 0 even? I'm saying that it's not. There's a lot of nerds debating it on the internet.\n",
    "listThree = listThree + listTwo[2::2]\n",
    "\n",
    "print(listThree)\n"
   ]
  },
  {
   "cell_type": "code",
   "execution_count": 18,
   "metadata": {},
   "outputs": [
    {
     "name": "stdout",
     "output_type": "stream",
     "text": [
      "[8, 45, 11]\n",
      "[12, 14, 23]\n",
      "[89, 45, 78]\n",
      "[8, 45, 11]\n",
      "[12, 14, 23]\n",
      "[89, 45, 78]\n"
     ]
    }
   ],
   "source": [
    "#Exercise 2\n",
    "#Take the following list. Slice it into three equal chunks and reverse each list.\n",
    "\n",
    "sampleList = [11, 45, 8, 23, 14, 12, 78, 45, 89]\n",
    "\n",
    "list1 = sampleList[:3]\n",
    "list2 = sampleList[3:6]\n",
    "list3 = sampleList[6:]\n",
    "\n",
    "list1 = list1[::-1]\n",
    "list2 = list2[::-1]\n",
    "list3 = list3[::-1]\n",
    "\n",
    "print(list1)\n",
    "print(list2)\n",
    "print(list3)\n",
    "\n",
    "print(sampleList[2::-1])\n",
    "print(sampleList[5:2:-1])\n",
    "print(sampleList[8:5:-1])"
   ]
  },
  {
   "cell_type": "code",
   "execution_count": 1,
   "metadata": {},
   "outputs": [
    {
     "name": "stdout",
     "output_type": "stream",
     "text": [
      "<class 'list'>\n",
      "[47, 64, 69, 37, 76, 83, 95, 97]\n",
      "<class 'dict_values'>\n",
      "dict_values([47, 69, 76, 97])\n",
      "[47, 69, 76, 97]\n",
      "[47, 69, 76, 97]\n"
     ]
    }
   ],
   "source": [
    "#Exercise 3\n",
    "#Iterate through a given list and check if a given element already exists in a dictionary as a key’s value. If not, delete it from the list.\n",
    "\n",
    "rollNumber = [47, 64, 69, 37, 76, 83, 95, 97]\n",
    "sampleDict ={'Zach':47, 'Emma':69, 'Kelly':76, 'Jason':97}\n",
    "\n",
    "values = sampleDict.values()\n",
    "\n",
    "print(type(rollNumber))\n",
    "print(rollNumber)\n",
    "print(type(values))\n",
    "print(values)\n",
    "\n",
    "#for y in sampleDict:\n",
    "\n",
    "#What does the : do with list assignment? It iterates through the list, but it also clears out old values.\n",
    "#This comprehension structure iterates, compares, and returns the value.\n",
    "    \n",
    "rollNumber[:] = [item for item in rollNumber if item in sampleDict.values()]\n",
    "print(rollNumber)\n",
    "\n",
    "\n",
    "rollNumber = [47, 64, 69, 37, 76, 83, 95, 97]\n",
    "temp = []\n",
    "\n",
    "for i in rollNumber:\n",
    "    for y in values:\n",
    "        if i == y:\n",
    "            temp.append(i)\n",
    "\n",
    "rollNumber = temp\n",
    "\n",
    "print(rollNumber)\n",
    "\n",
    "\n"
   ]
  },
  {
   "cell_type": "code",
   "execution_count": 2,
   "metadata": {},
   "outputs": [
    {
     "name": "stdout",
     "output_type": "stream",
     "text": [
      "str1\n",
      "str1\n",
      "'str1'\n",
      "str1\n"
     ]
    }
   ],
   "source": [
    "#Exercise 4\n",
    "#Choose all the valid string creation in python \n",
    "\n",
    "str1 = \"str1\"\n",
    "print(str1)\n",
    "str1 = 'str1'\n",
    "print(str1)\n",
    "str1 = \"'str1'\"\n",
    "print(str1)\n",
    "str1 = str(\"str1\")\n",
    "print(str1)\n",
    "\n",
    "#As long as you put the right quotes (copy/paste didn't work), all print like strings."
   ]
  },
  {
   "cell_type": "code",
   "execution_count": 8,
   "metadata": {},
   "outputs": [
    {
     "name": "stdout",
     "output_type": "stream",
     "text": [
      "False True True True\n"
     ]
    }
   ],
   "source": [
    "#Exercise 5\n",
    "#What is the output of the following code and why?\n",
    "\n",
    "print(bool(0), bool(3.14159), bool(-3), bool(1.0+1j))\n",
    "\n",
    "#False True True True\n",
    "#All integers, floats, and complex numbers have Boolean value of true unless they are 0."
   ]
  },
  {
   "cell_type": "code",
   "execution_count": 10,
   "metadata": {},
   "outputs": [
    {
     "name": "stdout",
     "output_type": "stream",
     "text": [
      "<class 'int'>\n",
      "<class 'int'>\n"
     ]
    },
    {
     "data": {
      "text/plain": [
       "NoneType"
      ]
     },
     "execution_count": 10,
     "metadata": {},
     "output_type": "execute_result"
    }
   ],
   "source": [
    "#Exercise 6\n",
    "#What is the data type of print(type(0xFF))\n",
    "\n",
    "print(type(0xFF))\n",
    "type(print(type(0xFF)))\n",
    "\n",
    "#All functions have a return value of None, so a print function has type of None."
   ]
  }
 ],
 "metadata": {
  "kernelspec": {
   "display_name": "Python 3",
   "language": "python",
   "name": "python3"
  },
  "language_info": {
   "codemirror_mode": {
    "name": "ipython",
    "version": 3
   },
   "file_extension": ".py",
   "mimetype": "text/x-python",
   "name": "python",
   "nbconvert_exporter": "python",
   "pygments_lexer": "ipython3",
   "version": "3.8.5"
  }
 },
 "nbformat": 4,
 "nbformat_minor": 4
}
