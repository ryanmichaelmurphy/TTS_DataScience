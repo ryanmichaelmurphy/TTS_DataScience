{
 "cells": [
  {
   "cell_type": "code",
   "execution_count": 3,
   "metadata": {},
   "outputs": [
    {
     "name": "stdout",
     "output_type": "stream",
     "text": [
      "Hello, human. What is your name?\n",
      "First name:Ryan\n",
      "Last name:Murphy\n",
      "Murphy Ryan\n"
     ]
    }
   ],
   "source": [
    "print(\"Hello, human. What is your name?\")\n",
    "first = input(\"First name: \")\n",
    "last = input(\"Last name: \")\n",
    "print(last + \" \" + first)"
   ]
  },
  {
   "cell_type": "code",
   "execution_count": 4,
   "metadata": {},
   "outputs": [
    {
     "name": "stdout",
     "output_type": "stream",
     "text": [
      "155\n"
     ]
    }
   ],
   "source": [
    "def compute(n):\n",
    "    x = n+n*n+n*n*n\n",
    "    print(x)\n",
    "    \n",
    "compute(5)"
   ]
  },
  {
   "cell_type": "code",
   "execution_count": 5,
   "metadata": {},
   "outputs": [
    {
     "name": "stdout",
     "output_type": "stream",
     "text": [
      "What country are you from? USA\n",
      "I have heard that USA is a beautiful country!\n"
     ]
    }
   ],
   "source": [
    "country = input(\"What country are you from? \")\n",
    "print(\"I have heard that \" +country+\" is a beautiful country!\")"
   ]
  },
  {
   "cell_type": "code",
   "execution_count": 7,
   "metadata": {},
   "outputs": [
    {
     "name": "stdout",
     "output_type": "stream",
     "text": [
      "182.0\n"
     ]
    }
   ],
   "source": [
    "x = 36 / 4 * (3 +  2) * 4 + 2\n",
    "print(x)\n",
    "#Python follows order of operations. First it evaluates (3+2). Then it elevaluate left to right 36/4= 9. 9*5 = 45. 45*4 = 180. 180 + 2 = 182"
   ]
  },
  {
   "cell_type": "code",
   "execution_count": null,
   "metadata": {},
   "outputs": [],
   "source": [
    "#Is a string immutable in python?\n",
    "#Absolutely, they are immutable. I know this because I ran a Google search. Here's my source:\n",
    "#https://www.tutorialspoint.com/python_text_processing/python_string_immutability.htm#:~:text=In%20python%2C%20the%20string%20data,led%20us%20to%20an%20error."
   ]
  }
 ],
 "metadata": {
  "kernelspec": {
   "display_name": "Python 3",
   "language": "python",
   "name": "python3"
  },
  "language_info": {
   "codemirror_mode": {
    "name": "ipython",
    "version": 3
   },
   "file_extension": ".py",
   "mimetype": "text/x-python",
   "name": "python",
   "nbconvert_exporter": "python",
   "pygments_lexer": "ipython3",
   "version": "3.8.5"
  }
 },
 "nbformat": 4,
 "nbformat_minor": 4
}
